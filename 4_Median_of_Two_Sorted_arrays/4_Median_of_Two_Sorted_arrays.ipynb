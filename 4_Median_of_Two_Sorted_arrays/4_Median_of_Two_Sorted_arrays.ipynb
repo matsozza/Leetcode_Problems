{
 "cells": [
  {
   "cell_type": "markdown",
   "metadata": {},
   "source": [
    "## Problem\n",
    "\n",
    "https://leetcode.com/problems/median-of-two-sorted-arrays/\n",
    "\n",
    "## Solution\n",
    "by Matheus Sozza"
   ]
  },
  {
   "cell_type": "code",
   "execution_count": 124,
   "metadata": {},
   "outputs": [],
   "source": [
    "from typing import List\n",
    "class Solution:\n",
    "    def findMedianSortedArrays(self, nums1: List[int], nums2: List[int]) -> float:\n",
    "        A_init = 0; A_fin = len(nums1)-1; A_mid = int((A_fin+A_init)/2)        \n",
    "        B_init = 0; B_fin = len(nums2)-1; B_mid = int((B_fin+B_init)/2)\n",
    "        \n",
    "        # If one of the arrays is null, just get median of the other directly\n",
    "        if nums1 is None or len(nums1) == 0:\n",
    "            len_nums2 = len(nums2)\n",
    "            if len_nums2 % 2 == 0:\n",
    "                return (nums2[int(len_nums2/2)-1] + nums2[int(len_nums2/2)]) / 2\n",
    "            else:\n",
    "                return nums2[int(len_nums2/2)]\n",
    "        elif nums2 is None or len(nums2) == 0:\n",
    "            len_nums1 = len(nums1)\n",
    "            if len_nums1 % 2 == 0:\n",
    "                return (nums1[int(len_nums1/2)-1] + nums1[int(len_nums1/2)]) / 2\n",
    "            else:\n",
    "                return nums1[int(len_nums1/2)]       \n",
    "\n",
    "        # If arrays can be concat. directly      \n",
    "        if nums1[-1] <= nums2[0]:\n",
    "            tmp_arr = nums1+nums2\n",
    "            len_tmp =  len(tmp_arr)\n",
    "            if len_tmp % 2 == 0:\n",
    "                return (tmp_arr[int(len_tmp/2)-1] + tmp_arr[int(len_tmp/2)]) / 2\n",
    "            else:\n",
    "                return tmp_arr[int(len_tmp/2)]        \n",
    "        elif nums2[-1] <= nums1[0]:\n",
    "            tmp_arr = nums2+nums1\n",
    "            len_tmp =  len(tmp_arr)\n",
    "            if len_tmp % 2 == 0:\n",
    "                return (tmp_arr[int(len_tmp/2)-1] + tmp_arr[int(len_tmp/2)]) / 2\n",
    "            else:\n",
    "                return tmp_arr[int(len_tmp/2)]   \n",
    "                \n",
    "        # Init value \"K\" - we want the Kth value from the \n",
    "        # sorted mixture of the two arrays        \n",
    "        comb_len = len(nums1) + len(nums2)\n",
    "        if(comb_len % 2 != 0):\n",
    "            k = (comb_len+1)/2 # Odd\n",
    "        else:\n",
    "            k = comb_len/2 # Even\n",
    "                 \n",
    "        while k>0 and (A_fin!=A_init and B_fin!=B_init):     \n",
    "            if k > int(((A_fin-A_init+1)/2) + ((B_fin-B_init+1)/2)-0.5): \n",
    "                # Cut the left part of the array\n",
    "                # with the smaller mid value.\n",
    "                # If mid values are equal, \n",
    "                # cut from longer array\n",
    "                if nums1[A_mid]>nums2[B_mid] or \\\n",
    "                    (nums1[A_mid]==nums2[B_mid] and (A_fin-A_init < B_fin-B_init)):\n",
    "                    # nums2 is smaller\n",
    "                    lenB = B_fin-B_init+1\n",
    "                    k=k - int(lenB/2)\n",
    "                    B_init += int(lenB/2)\n",
    "                    B_mid = int((B_fin+B_init)/2)       \n",
    "                else:\n",
    "                    # nums1 is smaller\n",
    "                    lenA = A_fin-A_init+1\n",
    "                    k=k - int(lenA/2)\n",
    "                    A_init += int(lenA/2)\n",
    "                    A_mid = int((A_fin+A_init)/2)\n",
    "            else:\n",
    "                # Cut the right part of the array\n",
    "                # with the bigger mid value.\n",
    "                # If mid values are equal, \n",
    "                # cut from longer array                \n",
    "                if nums1[A_mid]>nums2[B_mid] or \\\n",
    "                    (nums1[A_mid]==nums2[B_mid] and (A_fin-A_init > B_fin-B_init)):\n",
    "                    # nums1 is bigger\n",
    "                    A_fin = A_mid\n",
    "                    A_mid = int((A_fin+A_init)/2)\n",
    "                else:\n",
    "                    # nums2 is bigger\n",
    "                    B_fin = B_mid\n",
    "                    B_mid = int((B_fin+B_init)/2)      \n",
    "        \n",
    "        # Get the 'Kth' if final sorted(nums1+nums2) has a odd number of elems.\n",
    "        # or get the avg. of 'Kth' + 'Kth+1' if has even number of elems.        \n",
    "        merge_arr = sorted(nums1[A_init:A_fin+1] + nums2[B_init:B_fin+1])\n",
    "        if comb_len%2==0:            \n",
    "            return (merge_arr[int(k)-1] + merge_arr[int(k)]) / 2\n",
    "        else:\n",
    "            return merge_arr[int(k)-1]\n",
    "            "
   ]
  },
  {
   "cell_type": "markdown",
   "metadata": {},
   "source": [
    "## Tests"
   ]
  },
  {
   "cell_type": "code",
   "execution_count": 125,
   "metadata": {},
   "outputs": [
    {
     "data": {
      "text/plain": [
       "3.5"
      ]
     },
     "execution_count": 125,
     "metadata": {},
     "output_type": "execute_result"
    }
   ],
   "source": [
    "s=Solution()\n",
    "arr1 = [1,3,4]; arr2 = [2,5,6]\n",
    "s.findMedianSortedArrays(arr1, arr2) # 3.5"
   ]
  },
  {
   "cell_type": "code",
   "execution_count": 126,
   "metadata": {},
   "outputs": [
    {
     "data": {
      "text/plain": [
       "2.0"
      ]
     },
     "execution_count": 126,
     "metadata": {},
     "output_type": "execute_result"
    }
   ],
   "source": [
    "s=Solution()\n",
    "arr1 = [1,2,2]; arr2 = [1,2,3]\n",
    "s.findMedianSortedArrays(arr1, arr2) # 2"
   ]
  },
  {
   "cell_type": "code",
   "execution_count": 127,
   "metadata": {},
   "outputs": [
    {
     "data": {
      "text/plain": [
       "4.5"
      ]
     },
     "execution_count": 127,
     "metadata": {},
     "output_type": "execute_result"
    }
   ],
   "source": [
    "arr1 = [1,2,6,7]; arr2 = [3,4,5,8]\n",
    "s.findMedianSortedArrays(arr1, arr2) # 4.5"
   ]
  },
  {
   "cell_type": "code",
   "execution_count": 128,
   "metadata": {},
   "outputs": [
    {
     "data": {
      "text/plain": [
       "1.5"
      ]
     },
     "execution_count": 128,
     "metadata": {},
     "output_type": "execute_result"
    }
   ],
   "source": [
    "arr1 = [-1,2]; arr2 = [1,3]\n",
    "s.findMedianSortedArrays(arr1, arr2) # 1.5"
   ]
  },
  {
   "cell_type": "code",
   "execution_count": 129,
   "metadata": {},
   "outputs": [
    {
     "data": {
      "text/plain": [
       "9"
      ]
     },
     "execution_count": 129,
     "metadata": {},
     "output_type": "execute_result"
    }
   ],
   "source": [
    "\n",
    "arr1 = [1,2,3,4,6]; arr2 = [5,7,8,9,10,11,12,13,14,15,16,17]\n",
    "s.findMedianSortedArrays(arr1, arr2) # 9"
   ]
  },
  {
   "cell_type": "code",
   "execution_count": 130,
   "metadata": {},
   "outputs": [
    {
     "data": {
      "text/plain": [
       "4.5"
      ]
     },
     "execution_count": 130,
     "metadata": {},
     "output_type": "execute_result"
    }
   ],
   "source": [
    "arr1 = [1,3,5,9]; arr2 = [2,4,7,8]\n",
    "s.findMedianSortedArrays(arr1, arr2) # 4.5"
   ]
  },
  {
   "cell_type": "code",
   "execution_count": 131,
   "metadata": {},
   "outputs": [
    {
     "data": {
      "text/plain": [
       "2"
      ]
     },
     "execution_count": 131,
     "metadata": {},
     "output_type": "execute_result"
    }
   ],
   "source": [
    "arr1 = [1,3]; arr2 = [2]\n",
    "s.findMedianSortedArrays(arr1, arr2) # 2"
   ]
  },
  {
   "cell_type": "code",
   "execution_count": 132,
   "metadata": {},
   "outputs": [
    {
     "data": {
      "text/plain": [
       "3"
      ]
     },
     "execution_count": 132,
     "metadata": {},
     "output_type": "execute_result"
    }
   ],
   "source": [
    "arr1 = [1,3,4]; arr2 = []\n",
    "s.findMedianSortedArrays(arr1, arr2) # 3"
   ]
  },
  {
   "cell_type": "code",
   "execution_count": 133,
   "metadata": {},
   "outputs": [
    {
     "data": {
      "text/plain": [
       "2"
      ]
     },
     "execution_count": 133,
     "metadata": {},
     "output_type": "execute_result"
    }
   ],
   "source": [
    "arr1 = [2,2,4,4]; arr2 = [2,2,2,4,4]\n",
    "s.findMedianSortedArrays(arr1, arr2) # 2"
   ]
  },
  {
   "cell_type": "code",
   "execution_count": 134,
   "metadata": {},
   "outputs": [
    {
     "data": {
      "text/plain": [
       "9"
      ]
     },
     "execution_count": 134,
     "metadata": {},
     "output_type": "execute_result"
    }
   ],
   "source": [
    "arr1 = [1,2,3,4,5]; arr2 = [6,7,8,9,10,11,12,13,14,15,16,17]\n",
    "s.findMedianSortedArrays(arr1, arr2) # 9"
   ]
  }
 ],
 "metadata": {
  "kernelspec": {
   "display_name": "Python 3",
   "language": "python",
   "name": "python3"
  },
  "language_info": {
   "codemirror_mode": {
    "name": "ipython",
    "version": 3
   },
   "file_extension": ".py",
   "mimetype": "text/x-python",
   "name": "python",
   "nbconvert_exporter": "python",
   "pygments_lexer": "ipython3",
   "version": "3.9.12"
  }
 },
 "nbformat": 4,
 "nbformat_minor": 2
}
