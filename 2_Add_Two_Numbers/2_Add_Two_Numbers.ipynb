{
 "cells": [
  {
   "cell_type": "markdown",
   "metadata": {},
   "source": [
    "## Problem\n",
    "\n",
    "https://leetcode.com/problems/add-two-numbers\n",
    "\n",
    "## Solution\n",
    "by Matheus Sozza\n",
    "\n",
    "The focus of this solution is to optimize execution time, minimizing the numbers of instructions for each program path. This way, the code might seem verbose and repetitive, and it definitely could be shorter."
   ]
  },
  {
   "cell_type": "code",
   "execution_count": 3,
   "metadata": {},
   "outputs": [],
   "source": [
    "from typing import Optional\n",
    "class ListNode:\n",
    "    def __init__(self, val=0, next=None):\n",
    "        self.val = val\n",
    "        self.next = next\n",
    "class Solution:\n",
    "    def addTwoNumbers(self, l1: Optional[ListNode], l2: Optional[ListNode]) -> Optional[ListNode]:\n",
    "        list_node = ListNode() # Linked list\n",
    "        list_node0 = list_node # Keep init. node address\n",
    "        carry=0 # Carry value\n",
    "        \n",
    "        # Loop while boot numbers are analyzed and\n",
    "        # no carry value remains\n",
    "        while True:\n",
    "            # Extract digit from numbers & sum\n",
    "            if l1 != None and l2 != None:\n",
    "                list_node.val = l1.val+l2.val+carry        \n",
    "                l1 = l1.next\n",
    "                l2 = l2.next\n",
    "            elif l1 != None and l2 == None:\n",
    "                list_node.val = l1.val+carry        \n",
    "                l1 = l1.next\n",
    "            elif l1 == None and l2 != None:\n",
    "                list_node.val = l2.val+carry        \n",
    "                l2 = l2.next\n",
    "            else:\n",
    "                list_node.val=carry            \n",
    "            \n",
    "            # Check and update vsum and carry if needed\n",
    "            if list_node.val > 9:\n",
    "                carry = 1 # Carry for next op.\n",
    "                list_node.val = list_node.val-10 # Get just units part\n",
    "            else:\n",
    "                carry=0 # No carry\n",
    "\n",
    "            # Check if should continue or finish\n",
    "            if l1 != None or l2 != None or carry != 0:\n",
    "                list_node.next = ListNode()\n",
    "                list_node = list_node.next\n",
    "            else:\n",
    "                break\n",
    "\n",
    "        # Return first pos of the list\n",
    "        return list_node0     "
   ]
  },
  {
   "cell_type": "markdown",
   "metadata": {},
   "source": [
    "## Tests"
   ]
  },
  {
   "cell_type": "code",
   "execution_count": 2,
   "metadata": {},
   "outputs": [],
   "source": [
    "def n2l(num):\n",
    "    l1 = ListNode(); l1_i = l1\n",
    "    for i in range(len(str(num))-1, -1, -1):\n",
    "        l1.val = int(str(num)[i])\n",
    "        if i>0:\n",
    "            l1.next = ListNode(); l1 = l1.next    \n",
    "    return l1_i"
   ]
  },
  {
   "cell_type": "code",
   "execution_count": 4,
   "metadata": {},
   "outputs": [
    {
     "name": "stdout",
     "output_type": "stream",
     "text": [
      "1\n",
      "8\n"
     ]
    }
   ],
   "source": [
    "n1 = 81; n2 = 0\n",
    "b = Solution().addTwoNumbers(n2l(n1), n2l(n2))\n",
    "while b != None:\n",
    "    print(b.val)\n",
    "    b=b.next"
   ]
  },
  {
   "cell_type": "code",
   "execution_count": 5,
   "metadata": {},
   "outputs": [
    {
     "name": "stdout",
     "output_type": "stream",
     "text": [
      "8\n",
      "9\n",
      "9\n",
      "9\n",
      "0\n",
      "0\n",
      "0\n",
      "1\n"
     ]
    }
   ],
   "source": [
    "n1 = 9999999; n2 = 9999\n",
    "b = Solution().addTwoNumbers(n2l(n1), n2l(n2))\n",
    "while b != None:\n",
    "    print(b.val)\n",
    "    b=b.next"
   ]
  },
  {
   "cell_type": "code",
   "execution_count": 6,
   "metadata": {},
   "outputs": [
    {
     "name": "stdout",
     "output_type": "stream",
     "text": [
      "7\n",
      "0\n",
      "8\n"
     ]
    }
   ],
   "source": [
    "n1 = 342; n2 = 465\n",
    "b = Solution().addTwoNumbers(n2l(n1), n2l(n2))\n",
    "while b != None:\n",
    "    print(b.val)\n",
    "    b=b.next"
   ]
  }
 ],
 "metadata": {
  "kernelspec": {
   "display_name": "Python 3",
   "language": "python",
   "name": "python3"
  },
  "language_info": {
   "codemirror_mode": {
    "name": "ipython",
    "version": 3
   },
   "file_extension": ".py",
   "mimetype": "text/x-python",
   "name": "python",
   "nbconvert_exporter": "python",
   "pygments_lexer": "ipython3",
   "version": "3.9.12"
  }
 },
 "nbformat": 4,
 "nbformat_minor": 2
}
