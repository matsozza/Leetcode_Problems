{
 "cells": [
  {
   "cell_type": "markdown",
   "metadata": {},
   "source": [
    "## Problem\n",
    "\n",
    "https://leetcode.com/problems/two-sum\n",
    "\n",
    "## Solution\n",
    "by Matheus Sozza\n",
    "\n",
    "This solution implements a hash table to search for the desired pair of numbers. \n",
    "It iterates through the array 'nums' sequentially, and for each analyzed value the corresponding pair is searched via a hash function.\n",
    "\n",
    "The focus is on execution time, so parts of the code are optimized what can impact its understandability."
   ]
  },
  {
   "cell_type": "code",
   "execution_count": 38,
   "metadata": {},
   "outputs": [],
   "source": [
    "class Solution:\n",
    "    def twoSum(self, nums, target):\n",
    "        tamNums = len(nums)\n",
    "        hashArr = [list() for _ in range(tamNums)]\n",
    "        \n",
    "        # Reposition the values from 'nums' \n",
    "        # in a chained hash table\n",
    "        for idx1 in range(tamNums):\n",
    "            # Add 'nums[idx1]' to the hash table\n",
    "            hashIdx = int(tamNums * ((nums[idx1] * 0.61803) % 1))\n",
    "            hashArr[hashIdx].append((nums[idx1],idx1))\n",
    "\n",
    "            # Calculate 'hIdx2' of the second number such that\n",
    "            # 'hashArr[hIdx1] + hashArr[hIdx2] = target'\n",
    "            hashIdx2 = int(tamNums * (((target-nums[idx1]) * 0.61803) % 1))\n",
    "            \n",
    "            # Check if the second number is already present on the hash\n",
    "            # table. If not, just continue the loop.\n",
    "            for el in hashArr[hashIdx2]:\n",
    "                # n1 + n2 = target, found!\n",
    "                if nums[idx1] + el[0] == target and el[1] != idx1:\n",
    "                    return [el[1], idx1] # Return sorted"
   ]
  },
  {
   "cell_type": "markdown",
   "metadata": {},
   "source": [
    "## Tests"
   ]
  },
  {
   "cell_type": "code",
   "execution_count": 39,
   "metadata": {},
   "outputs": [
    {
     "data": {
      "text/plain": [
       "[0, 1]"
      ]
     },
     "execution_count": 39,
     "metadata": {},
     "output_type": "execute_result"
    }
   ],
   "source": [
    "s=Solution()\n",
    "s.twoSum([2,7,11,15], 9)"
   ]
  },
  {
   "cell_type": "code",
   "execution_count": 40,
   "metadata": {},
   "outputs": [
    {
     "data": {
      "text/plain": [
       "[4, 5]"
      ]
     },
     "execution_count": 40,
     "metadata": {},
     "output_type": "execute_result"
    }
   ],
   "source": [
    "s=Solution()\n",
    "s.twoSum([1,5,8,17,29,39], 68)"
   ]
  }
 ],
 "metadata": {
  "kernelspec": {
   "display_name": "Python 3",
   "language": "python",
   "name": "python3"
  },
  "language_info": {
   "codemirror_mode": {
    "name": "ipython",
    "version": 3
   },
   "file_extension": ".py",
   "mimetype": "text/x-python",
   "name": "python",
   "nbconvert_exporter": "python",
   "pygments_lexer": "ipython3",
   "version": "3.9.12"
  }
 },
 "nbformat": 4,
 "nbformat_minor": 2
}
